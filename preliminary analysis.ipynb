{
 "cells": [
  {
   "cell_type": "code",
   "execution_count": null,
   "id": "9003beb3",
   "metadata": {},
   "outputs": [],
   "source": [
    "%pylab inline \n",
    "import pandas as pd \n",
    "from Bio import pairwise2\n",
    "from Bio.pairwise2 import format_alignment\n",
    "from Bio.Seq import Seq"
   ]
  },
  {
   "cell_type": "markdown",
   "id": "731d2b78",
   "metadata": {},
   "source": [
    "NNNNNNNTGACTaaccaattcagtcgactggatccggtaccaaggtcgggcaggaaNNNNNNNNNgagggcctatttcccatgattccttcatatttgcatatacgatacaaggctgttagagagataattagaattaatttgactgtaaacacaaagatattagtacaaaatacgtgacgtagaaagtaataatttcttgggtagtttgcagttttaaaattatgttttaaaatggactatcatatgcttaccgtaacttgaaagtatttcgatttcttggctttatatatcttgtggaaaggacgaaacaccGGCCCAGACTGAGCACGTGAGTTTAAGAGCTAAGCTGGAANNNNNNNNNNNNAAAAAGTGGCACCGAGTCGGTGCgcattacagtacgaagatgcatagctttttttaagcttgggccgctcgaggtacctctctaTGACTNNNNNNN\n",
    "\n",
    "UMI - Vector -- 9nt Barcode - Promoter - Guide - Spacer - 12nt Barcode  - linker and terminator - vector - UMI "
   ]
  },
  {
   "attachments": {},
   "cell_type": "markdown",
   "id": "05dad57b",
   "metadata": {},
   "source": [
    "Vector1: aaccaattcagtcgactggatccggtaccaaggtcgggcaggaa\n",
    "\n",
    "9nt Barcode:\n",
    "\n",
    "U6: gagggcctatttcccatgattccttcatatttgcatatacgatacaaggctgttagagagataattagaattaatttgactgtaaacacaaagatattagtacaaaatacgtgacgtagaaagtaataatttcttgggtagtttgcagttttaaaattatgttttaaaatggactatcatatgcttaccgtaacttgaaagtatttcgatttcttggctttatatatcttgtggaaaggacgaaacacc\n",
    "\n",
    "Guide: \n",
    "ggcccagactgagcacgtga\n",
    "\n",
    "spacer: GTTTAAGAGCTAAGCTGGAA\n",
    "\n",
    "linker-terminator-vector: AAAAAGTGGCACCGAGTCGGTGCgcattacagtacgaagatgcatagctttttttaagcttgggccgctcgaggtacctctctaTGACT"
   ]
  },
  {
   "cell_type": "code",
   "execution_count": 18,
   "id": "2853c062",
   "metadata": {},
   "outputs": [],
   "source": [
    "read1 = \"TAATTGATGACTAACCAATTCAGTCGACTGGATCCGGTACCAACTTGAAAGTATTTCGATTTCTTGGCTTTATATATCTTGTGGAAAGGACGAAACACCGGCCCAGACTGAGCACGTGAGTTTAAGAGCTAAGCTGGAACCAACAAACTTTAAAAAGTGGCACCGAGTCGGTGCGCATTACAGTACGAAGATGCATAGCTTTTTTTAAGCTTGGGCCGCTCGAGGTACCTCTCTAAGTCA\"\n"
   ]
  },
  {
   "cell_type": "code",
   "execution_count": 19,
   "id": "114d03ed",
   "metadata": {},
   "outputs": [],
   "source": [
    "read2=\"TGACTAACCAATTCAGTCGACTGGATCCGGTACCAACTTGAAAGTATTTCGATTTCTTGGCTTTATATATCTTGTGGAAAGGACGAAACACCGGCCCAGACTGAGCACGTGAGTTTAAGAGCTAAGCTGGAACCAACAAACTTTAAAAAGTGGCACCGAGTCGGTGCGCATTACAGTACGAAGATGCATAGCTTTTTTTAAGCTTGGGCCGCTCGAGGTACCTCTCTAAGTCAGGCTCCC\"\n"
   ]
  },
  {
   "cell_type": "code",
   "execution_count": 23,
   "id": "b216d9c6",
   "metadata": {},
   "outputs": [],
   "source": []
  },
  {
   "cell_type": "code",
   "execution_count": 55,
   "id": "437ebae0",
   "metadata": {},
   "outputs": [],
   "source": [
    "from Bio import pairwise2\n",
    "from Bio.pairwise2 import format_alignment\n",
    "\n",
    "def merge_and_trim_sequences(seq1, seq2, umi1, umi2):\n",
    "    # Align the two sequences using local alignment\n",
    "    alignments = pairwise2.align.localms(seq1, seq2, 2, -1, -3, -0.5, one_alignment_only=True)\n",
    "    aligned_seq1, aligned_seq2, score, start, end = alignments[0]\n",
    "\n",
    "    # Initialize the consensus sequence with the first aligned sequence\n",
    "    consensus = list(aligned_seq1)\n",
    "\n",
    "    # Merge the aligned sequences into the consensus sequence\n",
    "    for i, (base1, base2) in enumerate(zip(aligned_seq1, aligned_seq2)):\n",
    "        if base1 == '-':\n",
    "            consensus[i] = base2\n",
    "        elif base2 == '-':\n",
    "            continue\n",
    "        elif base1 == 'N' and base2 != 'N':\n",
    "            consensus[i] = base2\n",
    "        elif base2 == 'N' and base1 != 'N':\n",
    "            consensus[i] = base1\n",
    "        elif base1 != base2:\n",
    "            # Choose the base from seq2 if a mismatch occurs, unless seq2 contains 'N'\n",
    "            consensus[i] = base2 if base2 != 'N' else base1\n",
    "\n",
    "    # Join consensus list into string and remove gaps\n",
    "    consensus = ''.join(consensus).replace('-', '')\n",
    "\n",
    "    # Find UMI1 and remove everything to the left\n",
    "    umi1_index = consensus.find(umi1)\n",
    "    if umi1_index != -1:\n",
    "        consensus = consensus[umi1_index + len(umi1):]\n",
    "\n",
    "    # Find UMI2 and remove everything to the right (reverse complement)\n",
    "    def reverse_complement(seq):\n",
    "        complement = str.maketrans(\"ATGC\", \"TACG\")\n",
    "        return seq.translate(complement)[::-1]\n",
    "\n",
    "    umi2_rc = reverse_complement(umi2)\n",
    "    umi2_index = consensus.find(umi2_rc)\n",
    "    if umi2_index != -1:\n",
    "        consensus = consensus[:umi2_index]\n",
    "\n",
    "    return consensus\n",
    "\n"
   ]
  },
  {
   "cell_type": "code",
   "execution_count": null,
   "id": "68bdf836",
   "metadata": {},
   "outputs": [],
   "source": [
    "#It looks liek barcode 1 starts an index late "
   ]
  },
  {
   "cell_type": "code",
   "execution_count": null,
   "id": "49d3bacd",
   "metadata": {},
   "outputs": [],
   "source": []
  },
  {
   "cell_type": "code",
   "execution_count": 94,
   "id": "d6c6f7d6",
   "metadata": {},
   "outputs": [],
   "source": [
    "seq1='CGACACTCTTTCCCAACACGACGCTCTTCCGATCGGAGGGGGTGACTAACCAATTCAGTCGACTGGATCCGGTACCAAGGTCGGGCAGCAGGACGAAACACCGGCCCAGACTGAGCACGTGAGTTTAAGAGCTAAGCTGGAAACTTTCCTCAGTAAAAAGTGGCACCGAGTCGGTGCGCATTACAGTACGAAGATGCATAGCTTTTTTTAAGCTTGGGCCGCTCGAGGTACCTCTCTAAGTCA'"
   ]
  },
  {
   "cell_type": "code",
   "execution_count": 95,
   "id": "c568a7c5",
   "metadata": {},
   "outputs": [],
   "source": [
    "seq2 = 'TGACTAACCAATTCAGTCGACTGGATCCGGTACCAAGGTCGGGCAGAAGGACGAAACACCGGCCCAGACTGAGCACGTGAGTTTAAGAGCTAAGCTGGAAACTTTCCTCAGTAAAAAGTGGCACCGAGTCGGTGCGCATTACAGTACGAAGATGCATAGCTTTTTTTAAGCTTGGGCCGCTCGAGGTACCTCTCTAAGTCATATAACA'"
   ]
  },
  {
   "cell_type": "code",
   "execution_count": 96,
   "id": "27cc4a1f",
   "metadata": {},
   "outputs": [
    {
     "name": "stdout",
     "output_type": "stream",
     "text": [
      "Consensus Sequence: TGACTAACCAATTCAGTCGACTGGATCCGGTACCAAGGTCGGGCAGAAGGACGAAACACCGGCCCAGACTGAGCACGTGAGTTTAAGAGCTAAGCTGGAAACTTTCCTCAGTAAAAAGTGGCACCGAGTCGGTGCGCATTACAGTACGAAGATGCATAGCTTTTTTTAAGCTTGGGCCGCTCGAGGTACCTCTCTAAGTCA\n"
     ]
    }
   ],
   "source": [
    "\n",
    "umi1 = 'GAGGGGG'\n",
    "umi2 = 'TGTTATA'\n",
    "consensus_sequence = merge_and_trim_sequences(seq1, seq2,umi1, umi2 )\n",
    "\n",
    "print(\"Consensus Sequence:\", consensus_sequence)"
   ]
  },
  {
   "cell_type": "markdown",
   "id": "a3df47f8",
   "metadata": {},
   "source": [
    "Consensus Sequence: TGACTAACCAATTCAGTCGACTGGATCCGGTACCAAGGTCGGGCAGAAGGACGAAACACCGGCCCAGACTGAGCACGTGAGTTTAAGAGCTAAGCTGGAAACTTTCCTCAGTAAAAAGTGGCACCGAGTCGGTGCGCATTACAGTACGAAGATGCATAGCTTTTTTTAAGCTTGGGCCGCTCGAGGTACCTCTCTAAGTCA\n",
    "\n",
    "TGACTAACCAATTCAGTCGACTGGATCCGGTACCAAGGTCGGGCAGAAG\n",
    "\n",
    "Barcode1: GACGAAACA\n",
    "\n",
    "U6: CC\n",
    "guide - GGCCCAGACTGAGCACGTGA\n",
    "spacer - GTTTAAGAGCTAAGCTGGAA\n",
    "\n",
    "Barcode2: ACTTTCCTCAGT\n",
    "\n",
    "\n",
    "AAAAAGTGGCACCGAGTCGGTGCGCATTACAGTACGAAGATGCATAGCTTTTTTTAAGCTTGGGCCGCTCGAGGTACCTCTCTAAGTCA"
   ]
  },
  {
   "cell_type": "code",
   "execution_count": 117,
   "id": "a06b2c4f",
   "metadata": {},
   "outputs": [
    {
     "data": {
      "text/plain": [
       "('TGACTAACCAATTCAGTCGACTGGATCCGGTACCAAGGTCGGGCAG-AAGGACGAAACACCGGCCCAGACTGAGCACGTGAGTTTAAGAGCTAAGCTGGAAACTTTCCTCAGTAAAAAGTGGCACCGAGTCGGTGCGCATTACAGTACGAAGATGCATAGCTTTTTTTAAGCTTGGGCCGCTCGAGGTACCTCTCTAAGTCA',\n",
       " '-----------------------------GTACCAAGGTCGGGCAGGAA---------------------------------------------------------------------------------------------------------------------------------------------------------',\n",
       " 35.0,\n",
       " 29,\n",
       " 49)"
      ]
     },
     "execution_count": 117,
     "metadata": {},
     "output_type": "execute_result"
    }
   ],
   "source": [
    "alignments = pairwise2.align.localms(consensus_sequence, \n",
    "                                     pre_barcode_vector1, 2, -1, -3, -0.5, one_alignment_only=True)\n",
    "aligned_vector_seq, aligned_consensus_seq, score, start, end = alignments[0]\n",
    "aligned_vector_seq, aligned_consensus_seq, score, start, end"
   ]
  },
  {
   "cell_type": "code",
   "execution_count": 183,
   "id": "028a8190",
   "metadata": {},
   "outputs": [
    {
     "data": {
      "text/plain": [
       "'TGACTAACCAATTCAGTCGACTGGATCCGGTACCAAGGTCGGGCAGAAGGACGAAACACCGGCCCAGACTGAGCACGTGAGTTTAAGAGCTAAGCTGGAAACTTTCCTCAGTAAAAAGTGGCACCGAGTCGGTGCGCATTACAGTACGAAGATGCATAGCTTTTTTTAAGCTTGGGCCGCTCGAGGTACCTCTCTAAGTCA'"
      ]
     },
     "execution_count": 183,
     "metadata": {},
     "output_type": "execute_result"
    }
   ],
   "source": []
  },
  {
   "cell_type": "code",
   "execution_count": 118,
   "id": "ac73367e",
   "metadata": {},
   "outputs": [
    {
     "data": {
      "text/plain": [
       "'GTACCAAGGTCGGGCAGAAG'"
      ]
     },
     "execution_count": 118,
     "metadata": {},
     "output_type": "execute_result"
    }
   ],
   "source": [
    "consensus_sequence[start:end]"
   ]
  },
  {
   "cell_type": "code",
   "execution_count": 114,
   "id": "8b5c89d0",
   "metadata": {},
   "outputs": [
    {
     "data": {
      "text/plain": [
       "'ACTTTCCTCAGTAAAAAGTGGCACCGAGTCGGTGCGCATTACAGTACGAAGATGCATAGCTTTTTTTAAGCTTGGGCCGCTCGAGGTACCTCTCTAAGTCA'"
      ]
     },
     "execution_count": 114,
     "metadata": {},
     "output_type": "execute_result"
    }
   ],
   "source": [
    "consensus[end:]"
   ]
  },
  {
   "cell_type": "code",
   "execution_count": 98,
   "id": "a52a5a4b",
   "metadata": {},
   "outputs": [],
   "source": [
    "#consensus_sequence\n",
    "pre_barcode_vector1 = 'GTACCAAGGTCGGGCAGGAA' #9nt after \n",
    "pre_barcode_vector2 = 'GTTTAAGAGCTAAGCTGGAA' #12nt after \n",
    "\n",
    "barcode1=extract_barcode(consensus_sequence, pre_barcode_vector1, barcode_length=9)\n",
    "barcode2=extract_barcode(consensus_sequence, pre_barcode_vector2,  barcode_length=12)"
   ]
  },
  {
   "cell_type": "code",
   "execution_count": 106,
   "id": "5c22ff5d",
   "metadata": {},
   "outputs": [
    {
     "data": {
      "text/plain": [
       "'GACGAAACA'"
      ]
     },
     "execution_count": 106,
     "metadata": {},
     "output_type": "execute_result"
    }
   ],
   "source": [
    "barcode1=extract_barcode(consensus_sequence, pre_barcode_vector1, barcode_length=9)\n",
    "barcode1"
   ]
  },
  {
   "cell_type": "code",
   "execution_count": 100,
   "id": "255f6b18",
   "metadata": {},
   "outputs": [
    {
     "data": {
      "text/plain": [
       "('GACGAAACA', 'ACTTTCCTCAGT')"
      ]
     },
     "execution_count": 100,
     "metadata": {},
     "output_type": "execute_result"
    }
   ],
   "source": [
    "barcode1, barcode2"
   ]
  },
  {
   "cell_type": "code",
   "execution_count": 102,
   "id": "19c8eef7",
   "metadata": {},
   "outputs": [
    {
     "data": {
      "text/plain": [
       "'TGACTAACCAATTCAGTCGACTGGATCCGGTACCAAGGTCGGGCAGAAGGACGAAACACCGGCCCAGACTGAGCACGTGAGTTTAAGAGCTAAGCTGGAAACTTTCCTCAGTAAAAAGTGGCACCGAGTCGGTGCGCATTACAGTACGAAGATGCATAGCTTTTTTTAAGCTTGGGCCGCTCGAGGTACCTCTCTAAGTCA'"
      ]
     },
     "execution_count": 102,
     "metadata": {},
     "output_type": "execute_result"
    }
   ],
   "source": [
    "consensus_sequence"
   ]
  },
  {
   "cell_type": "code",
   "execution_count": 132,
   "id": "5c9d59be",
   "metadata": {},
   "outputs": [
    {
     "name": "stdout",
     "output_type": "stream",
     "text": [
      "30 GTACCAAGGTCGGGCAG-AA\n",
      "   ||||||||||||||||| ||\n",
      " 1 GTACCAAGGTCGGGCAGGAA\n",
      "  Score=35\n",
      "\n"
     ]
    }
   ],
   "source": [
    "vectorq = 'TGACTAACCAATTCAGTCGACTGGATCCGGTACCAAGGTCGGGCAGAAG'\n",
    "vector1 = 'aaccaattcagtcgactggatccggtaccaaggtcgggcaggaa'.upper()\n",
    "\n",
    "alignments = pairwise2.align.localms(consensus_seq , pre_barcode_vector1, 2, -1, -3, -0.5, one_alignment_only=True)\n",
    "\n",
    "# Display the best alignment\n",
    "for alignment in alignments:\n",
    "    print(format_alignment(*alignment))"
   ]
  },
  {
   "cell_type": "code",
   "execution_count": 153,
   "id": "19029da8",
   "metadata": {},
   "outputs": [],
   "source": [
    "from Bio import pairwise2\n",
    "\n",
    "def extract_barcode(consensus, vector, barcode_length=12):\n",
    "    \n",
    "    alignments = pairwise2.align.localms(consensus, vector, 2, -1, -3, -0.5, one_alignment_only=True)\n",
    "    if alignments:\n",
    "        aligned_consensus_seq, aligned_vector_seq, score, start, end = alignments[0]\n",
    "        # Calculate the exact index in the consensus without considering gaps\n",
    "        gapless_end = start + sum(1 for base in aligned_vector_seq if base != '-')\n",
    "        barcode_start = gapless_end\n",
    "        barcode_end = barcode_start + barcode_length\n",
    "        return consensus[barcode_start:barcode_end]\n",
    "    return \"\"\n"
   ]
  },
  {
   "cell_type": "code",
   "execution_count": 155,
   "id": "0e56534b",
   "metadata": {},
   "outputs": [
    {
     "ename": "TypeError",
     "evalue": "cannot unpack non-iterable int object",
     "output_type": "error",
     "traceback": [
      "\u001b[0;31m---------------------------------------------------------------------------\u001b[0m",
      "\u001b[0;31mTypeError\u001b[0m                                 Traceback (most recent call last)",
      "\u001b[0;32m<ipython-input-155-893af1677fd6>\u001b[0m in \u001b[0;36m<module>\u001b[0;34m\u001b[0m\n\u001b[0;32m----> 1\u001b[0;31m \u001b[0mconsensus_sequence\u001b[0m\u001b[0;34m,\u001b[0m \u001b[0mpre_barcode_vector1\u001b[0m\u001b[0;34m,\u001b[0m \u001b[0mbarcode_length\u001b[0m\u001b[0;34m=\u001b[0m\u001b[0;36m9\u001b[0m\u001b[0;34m\u001b[0m\u001b[0;34m\u001b[0m\u001b[0m\n\u001b[0m",
      "\u001b[0;31mTypeError\u001b[0m: cannot unpack non-iterable int object"
     ]
    }
   ],
   "source": [
    "consensus_sequence, pre_barcode_vector1, barcode_length=9"
   ]
  },
  {
   "cell_type": "code",
   "execution_count": 184,
   "id": "ffe5b18e",
   "metadata": {},
   "outputs": [
    {
     "name": "stderr",
     "output_type": "stream",
     "text": [
      "<ipython-input-184-e71997b5d28c>:9: DeprecationWarning: Calling np.sum(generator) is deprecated, and in the future will give a different result. Use np.sum(np.fromiter(generator)) or the python sum builtin instead.\n",
      "  gapless_end = start + sum(1 for base in aligned_vector_seq if base != '-')\n"
     ]
    },
    {
     "data": {
      "text/plain": [
       "'GACGAAACA'"
      ]
     },
     "execution_count": 184,
     "metadata": {},
     "output_type": "execute_result"
    }
   ],
   "source": [
    "barcode_length = 9 \n",
    "consensus = consensus_sequence\n",
    "vector = pre_barcode_vector1 \n",
    "\n",
    "alignments = pairwise2.align.localms(consensus, vector, 2, -1, -3, -0.5, one_alignment_only=True)\n",
    "\n",
    "aligned_consensus_seq, aligned_vector_seq, score, start, end = alignments[0]\n",
    "# Calculate the exact index in the consensus without considering gaps\n",
    "gapless_end = start + sum(1 for base in aligned_vector_seq if base != '-')\n",
    "barcode_start = gapless_end\n",
    "barcode_end = barcode_start + barcode_length\n",
    "consensus[barcode_start:barcode_end]"
   ]
  },
  {
   "cell_type": "code",
   "execution_count": null,
   "id": "2c2f4643",
   "metadata": {},
   "outputs": [],
   "source": []
  },
  {
   "cell_type": "code",
   "execution_count": 166,
   "id": "61e621ae",
   "metadata": {},
   "outputs": [
    {
     "name": "stderr",
     "output_type": "stream",
     "text": [
      "<ipython-input-166-07ed7a2868f6>:1: DeprecationWarning: Calling np.sum(generator) is deprecated, and in the future will give a different result. Use np.sum(np.fromiter(generator)) or the python sum builtin instead.\n",
      "  gapless_end = start + sum(1 for base in aligned_vector_seq if base != '-')\n"
     ]
    }
   ],
   "source": [
    "gapless_end = start + sum(1 for base in aligned_vector_seq if base != '-')\n",
    "gapless_end\n",
    "barcode_start = gapless_end"
   ]
  },
  {
   "cell_type": "code",
   "execution_count": null,
   "id": "b8202771",
   "metadata": {},
   "outputs": [],
   "source": []
  },
  {
   "cell_type": "code",
   "execution_count": null,
   "id": "ad4dfa59",
   "metadata": {},
   "outputs": [],
   "source": []
  },
  {
   "cell_type": "code",
   "execution_count": null,
   "id": "b5f9961b",
   "metadata": {},
   "outputs": [],
   "source": []
  },
  {
   "cell_type": "code",
   "execution_count": null,
   "id": "73dd109c",
   "metadata": {},
   "outputs": [],
   "source": []
  },
  {
   "cell_type": "code",
   "execution_count": 92,
   "id": "5fee9e8b",
   "metadata": {},
   "outputs": [
    {
     "name": "stdout",
     "output_type": "stream",
     "text": [
      "27 CCGGTACCAAGGTCGGGCAG-AA\n",
      "   |||||||||||||||||||| ||\n",
      " 1 CCGGTACCAAGGTCGGGCAGGAA\n",
      "  Score=41\n",
      "\n"
     ]
    }
   ],
   "source": [
    "\n",
    "consensus_sequence = \"TGACTAACCAATTCAGTCGACTGGATCCGGTACCAAGGTCGGGCAGAAGGACGAAACACCGGCCCAGACTGAGCACGTGAGTTTAAGAGCTAAGCTGGAAACTTTCCTCAGTAAAAAGTGGCACCGAGTCGGTGCGCATTACAGTACGAAGATGCATAGCTTTTTTTAAGCTTGGGCCGCTCGAGGTACCTCTCTAAGTCA\"\n",
    "vector2 = 'GTTTAAGAGCTAAGCTGGAA'\n",
    "vector1 = 'GTACCAAGGTCGGGCAGGAA'\n",
    "\n",
    "\n",
    "# Perform local alignment explicitly with a scoring matrix\n",
    "alignments = pairwise2.align.localms(consensus_sequence , vector1, 2, -1, -3, -0.5, one_alignment_only=True)\n",
    "\n",
    "# Display the best alignment\n",
    "for alignment in alignments:\n",
    "    print(format_alignment(*alignment))"
   ]
  },
  {
   "cell_type": "code",
   "execution_count": 91,
   "id": "1a1d7a73",
   "metadata": {},
   "outputs": [
    {
     "data": {
      "text/plain": [
       "'CCGGTACCAAGGTCGGGCAGGAA'"
      ]
     },
     "execution_count": 91,
     "metadata": {},
     "output_type": "execute_result"
    }
   ],
   "source": [
    "\"ccggtaccaaggtcgggcaggaa\".upper()"
   ]
  },
  {
   "cell_type": "code",
   "execution_count": 84,
   "id": "425522a7",
   "metadata": {},
   "outputs": [],
   "source": [
    "def extract_barcode(consensus, vector, barcode_length=12):\n",
    "    # Align the consensus sequence to the known vector sequence\n",
    "    alignments = pairwise2.align.localms(consensus, vector, 2, -1, -3, -0.5, one_alignment_only=True)\n",
    "    if alignments:\n",
    "        aligned_vector_seq, aligned_consensus_seq, score, start, end = alignments[0]\n",
    "        barcode_start = end\n",
    "        barcode_end = barcode_start + barcode_length\n",
    "        barcode = consensus[barcode_start:barcode_end]\n",
    "        return barcode\n",
    "    return \"\"\n"
   ]
  },
  {
   "cell_type": "code",
   "execution_count": 86,
   "id": "a8b3d25f",
   "metadata": {},
   "outputs": [],
   "source": [
    "barcode2 = extract_barcode(consensus, vector, barcode_length=12)"
   ]
  },
  {
   "cell_type": "code",
   "execution_count": 88,
   "id": "49106323",
   "metadata": {},
   "outputs": [
    {
     "data": {
      "text/plain": [
       "(12, 'ACTTTCCTCAGT')"
      ]
     },
     "execution_count": 88,
     "metadata": {},
     "output_type": "execute_result"
    }
   ],
   "source": [
    "len(barcode2), barcode2"
   ]
  },
  {
   "cell_type": "code",
   "execution_count": 89,
   "id": "66954c21",
   "metadata": {},
   "outputs": [],
   "source": [
    "vector1 = \"ccggtaccaaggtcgggcaggaa\"\n",
    "barcode1 = extract_barcode(consensus, vector, barcode_length=9)"
   ]
  },
  {
   "cell_type": "code",
   "execution_count": 90,
   "id": "0f8e7cc5",
   "metadata": {},
   "outputs": [
    {
     "data": {
      "text/plain": [
       "(9, 'ACTTTCCTC')"
      ]
     },
     "execution_count": 90,
     "metadata": {},
     "output_type": "execute_result"
    }
   ],
   "source": [
    "len(barcode1), barcode1"
   ]
  },
  {
   "cell_type": "code",
   "execution_count": null,
   "id": "65024cee",
   "metadata": {},
   "outputs": [],
   "source": []
  },
  {
   "cell_type": "code",
   "execution_count": null,
   "id": "8d25651e",
   "metadata": {},
   "outputs": [],
   "source": [
    "from concurrent.futures import ThreadPoolExecutor, as_completed\n",
    "import robin_stocks as rs\n",
    "\n",
    "with ThreadPoolExecutor(max_workers=10) as executor:\n",
    "    future_to_ticker = {executor.submit(fetch_stock_price, ticker): ticker for ticker in Tickers}\n",
    "\n",
    "    for future in as_completed(future_to_ticker):\n",
    "        ticker, stock_price = future.result()\n",
    "        handle_trades(ticker, stock_price, PC, PD, CC, CD, current_risk, limit)\n",
    "\n",
    "\n",
    "put_options = rs.options.find_options_by_expiration(ticker, '2024-05-17', 'put')"
   ]
  },
  {
   "cell_type": "code",
   "execution_count": null,
   "id": "f757cc00",
   "metadata": {},
   "outputs": [],
   "source": []
  },
  {
   "cell_type": "code",
   "execution_count": 185,
   "id": "5f6946cb",
   "metadata": {},
   "outputs": [
    {
     "name": "stdout",
     "output_type": "stream",
     "text": [
      "Starting task 1Starting task 2\n",
      "\n",
      "Starting task 3\n",
      "Starting task 4\n",
      "Starting task 5\n",
      "Task 1 completed\n",
      "Task 2 completed\n",
      "Task 3 completed\n",
      "Task 4 completed\n",
      "Task 5 completed\n",
      "Time taken: 5.066293954849243 seconds\n"
     ]
    }
   ],
   "source": [
    "import concurrent.futures\n",
    "import time\n",
    "\n",
    "# Function to simulate data fetching\n",
    "def fetch_data(task_id):\n",
    "    print(f\"Starting task {task_id}\")\n",
    "    time.sleep(task_id)  # Simulate time delay of fetching data\n",
    "    return f\"Task {task_id} completed\"\n",
    "\n",
    "# Main function to run parallel tasks\n",
    "def run_parallel_tasks():\n",
    "    tasks = [1, 2, 3, 4, 5]  # Simulate different tasks with varying times\n",
    "    start_time = time.time()\n",
    "\n",
    "    # Using ThreadPoolExecutor to run tasks in parallel\n",
    "    with concurrent.futures.ThreadPoolExecutor(max_workers=5) as executor:\n",
    "        # Map each task to the executor\n",
    "        results = list(executor.map(fetch_data, tasks))\n",
    "\n",
    "    # Output results\n",
    "    for result in results:\n",
    "        print(result)\n",
    "\n",
    "    # Calculate total time taken\n",
    "    end_time = time.time()\n",
    "    print(f\"Time taken: {end_time - start_time} seconds\")\n",
    "\n",
    "if __name__ == \"__main__\":\n",
    "    run_parallel_tasks()\n"
   ]
  },
  {
   "cell_type": "code",
   "execution_count": null,
   "id": "d835728c",
   "metadata": {},
   "outputs": [],
   "source": []
  }
 ],
 "metadata": {
  "kernelspec": {
   "display_name": "Python 3",
   "language": "python",
   "name": "python3"
  },
  "language_info": {
   "codemirror_mode": {
    "name": "ipython",
    "version": 3
   },
   "file_extension": ".py",
   "mimetype": "text/x-python",
   "name": "python",
   "nbconvert_exporter": "python",
   "pygments_lexer": "ipython3",
   "version": "3.8.8"
  }
 },
 "nbformat": 4,
 "nbformat_minor": 5
}
