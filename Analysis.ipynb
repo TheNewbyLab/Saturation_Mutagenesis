{
 "cells": [
  {
   "cell_type": "code",
   "execution_count": 188,
   "id": "74c6d13b",
   "metadata": {},
   "outputs": [],
   "source": [
    "import numpy as np\n",
    "import pandas as pd \n",
    "from Bio import pairwise2\n",
    "from Bio.pairwise2 import format_alignment\n",
    "from Bio.Seq import Seq\n",
    "import pysam"
   ]
  },
  {
   "cell_type": "code",
   "execution_count": 433,
   "id": "b6bd14d0",
   "metadata": {},
   "outputs": [
    {
     "data": {
      "text/plain": [
       "'GACGAGGATGCAGTGTCAGG'"
      ]
     },
     "execution_count": 433,
     "metadata": {},
     "output_type": "execute_result"
    }
   ],
   "source": [
    "reverse_complement('CCTGACACTGCATCCTCGTC')"
   ]
  },
  {
   "cell_type": "code",
   "execution_count": null,
   "id": "85173b03",
   "metadata": {},
   "outputs": [],
   "source": [
    "2.BEST1_Y284C_ABE8e: \n",
    "\n",
    "F: CCTGACACTGCATCCTCGTC \n",
    "\n",
    "R: CCCCTGGAGCATCCTGATTT "
   ]
  },
  {
   "cell_type": "markdown",
   "id": "5ca6f7a2",
   "metadata": {},
   "source": [
    "CCCCTGGAGCATCCTGATTTCAGGGTTCCCACCTAGCCCTTTGCTACCACATCCTCCTCCTCCTCCCAGGTGGTGACTGTGGCGGTGTACAGCTTCTTCCTGACTTGTCTAGTTGGGCGGCAGTTTCTGAACCCAGCCAAGGCCTACCCTGGCCATGAGCTGGACCTCGTTGTGCCCGTCTTCACGTTCCTGCAGTTCTTCTTCTATGTTGGCTGGCTGAAGGTGGGCCTCTCCAGGGCCCTGCTGGGCTGGAGGCATGGCCAGAGGGGTCATGGCCAGCAGCTGCCTGAGACGAGGATGCAGTGTCAGG"
   ]
  },
  {
   "cell_type": "code",
   "execution_count": 183,
   "id": "ecaf08db",
   "metadata": {},
   "outputs": [],
   "source": [
    "def merge_and_trim_sequences(seq1, seq2, umi1, umi2):\n",
    "    # Align the two sequences using local alignment\n",
    "    alignments = pairwise2.align.localms(seq1, seq2, 2, -1, -3, -0.5, one_alignment_only=True)\n",
    "    aligned_seq1, aligned_seq2, score, start, end = alignments[0]\n",
    "\n",
    "    # Initialize the consensus sequence with the first aligned sequence\n",
    "    consensus = list(aligned_seq1)\n",
    "\n",
    "    # Merge the aligned sequences into the consensus sequence\n",
    "    for i, (base1, base2) in enumerate(zip(aligned_seq1, aligned_seq2)):\n",
    "        if base1 == '-':\n",
    "            consensus[i] = base2\n",
    "        elif base2 == '-':\n",
    "            continue\n",
    "        elif base1 == 'N' and base2 != 'N':\n",
    "            consensus[i] = base2\n",
    "        elif base2 == 'N' and base1 != 'N':\n",
    "            consensus[i] = base1\n",
    "        elif base1 != base2:\n",
    "            # Choose the base from seq2 if a mismatch occurs, unless seq2 contains 'N'\n",
    "            consensus[i] = base2 if base2 != 'N' else base1\n",
    "\n",
    "    # Join consensus list into string and remove gaps\n",
    "    consensus = ''.join(consensus).replace('-', '')\n",
    "\n",
    "    # Find UMI1 and remove everything to the left\n",
    "    umi1_index = consensus.find(umi1)\n",
    "    #if umi1_index != -1:\n",
    "    #    consensus = consensus[umi1_index + len(umi1):]\n",
    "\n",
    "    # Find UMI2 and remove everything to the right (reverse complement)\n",
    "    \n",
    "\n",
    "    umi2_rc = reverse_complement(umi2)\n",
    "    umi2_index = consensus.rfind(umi2_rc)\n",
    "    if (umi2_index != -1) and (umi1_index != -1):\n",
    "        consensus = consensus[umi1_index + len(umi1):]\n",
    "        consensus = consensus[:umi2_index]\n",
    "        \n",
    "\n",
    "    return consensus\n",
    "\n",
    "def reverse_complement(seq):\n",
    "    complement = str.maketrans(\"ATGC\", \"TACG\")\n",
    "    return seq.translate(complement)[::-1]"
   ]
  },
  {
   "cell_type": "code",
   "execution_count": 423,
   "id": "d7ed1683",
   "metadata": {},
   "outputs": [],
   "source": [
    "def extract_barcode(consensus, vector, barcode_length=12):\n",
    "    # Align the consensus sequence to the known vector sequence\n",
    "    alignments = pairwise2.align.localms(consensus, vector, 2, -1, -3, -0.5, one_alignment_only=True)\n",
    "    if alignments:\n",
    "        aligned_consensus_seq, aligned_vector_seq, score, start, end = alignments[0]\n",
    "        barcode_start = end\n",
    "        barcode_end = barcode_start + barcode_length\n",
    "        barcode = aligned_consensus_seq[barcode_start:barcode_end]\n",
    "        return barcode, score \n",
    "    return \"\", 0\n",
    "\n",
    "pre_barcode_vector1 = 'GTACCAAGGTCGGGCAGGAA' #9nt after \n",
    "pre_barcode_vector2 = 'GTTTAAGAGCTAAGCTGGAA' #12nt after \n",
    "\n",
    "\n",
    "Reference = 'NNNNNNNTGACTAACCAATTCAGTCGACTGGATCCGGTACCAAGGTCGGGCAGGAANNNNNNNNNGAGGGCCTATTTCCCATGATTCCTTCATATTTGCATATACGATACAAGGCTGTTAGAGAGATAATTAGAATTAATTTGACTGTAAACACAAAGATATTAGTACAAAATACGTGACGTAGAAAGTAATAATTTCTTGGGTAGTTTGCAGTTTTAAAATTATGTTTTAAAATGGACTATCATATGCTTACCGTAACTTGAAAGTATTTCGATTTCTTGGCTTTATATATCTTGTGGAAAGGACGAAACACCGGCCCAGACTGAGCACGTGAGTTTAAGAGCTAAGCTGGAANNNNNNNNNNNNAAAAAGTGGCACCGAGTCGGTGCGCATTACAGTACGAAGATGCATAGCTTTTTTTAAGCTTGGGCCGCTCGAGGTACCTCTCTATGACTNNNNNNN'"
   ]
  },
  {
   "cell_type": "code",
   "execution_count": 307,
   "id": "285c645b",
   "metadata": {},
   "outputs": [
    {
     "data": {
      "text/plain": [
       "'NNNNNNNTGACTAACCAATTCAGTCGACTGGATCCGGTACCAAGGTCGGGCAGGAANNNNNNNNNGAGGGCCTATTTCCCATGATTCCTTCATATTTGCATATACGATACAAGGCTGTTAGAGAGATAATTAGAATTAATTTGACTGTAAACACAAAGATATTAGTACAAAATACGTGACGTAGAAAGTAATAATTTCTTGGGTAGTTTGCAGTTTTAAAATTATGTTTTAAAATGGACTATCATATGCTTACCGTAACTTGAAAGTATTTCGATTTCTTGGCTTTATATATCTTGTGGAAAGGACGAAACACCGGCCCAGACTGAGCACGTGAGTTTAAGAGCTAAGCTGGAANNNNNNNNNNNNAAAAAGTGGCACCGAGTCGGTGCGCATTACAGTACGAAGATGCATAGCTTTTTTTAAGCTTGGGCCGCTCGAGGTACCTCTCTATGACTNNNNNNN'"
      ]
     },
     "execution_count": 307,
     "metadata": {},
     "output_type": "execute_result"
    }
   ],
   "source": [
    "\"NNNNNNNTGACTaaccaattcagtcgactggatccggtaccaaggtcgggcaggaaNNNNNNNNNgagggcctatttcccatgattccttcatatttgcatatacgatacaaggctgttagagagataattagaattaatttgactgtaaacacaaagatattagtacaaaatacgtgacgtagaaagtaataatttcttgggtagtttgcagttttaaaattatgttttaaaatggactatcatatgcttaccgtaacttgaaagtatttcgatttcttggctttatatatcttgtggaaaggacgaaacaccGGCCCAGACTGAGCACGTGAGTTTAAGAGCTAAGCTGGAANNNNNNNNNNNNAAAAAGTGGCACCGAGTCGGTGCgcattacagtacgaagatgcatagctttttttaagcttgggccgctcgaggtacctctctaTGACTNNNNNNN\".upper()"
   ]
  },
  {
   "cell_type": "code",
   "execution_count": 411,
   "id": "86d72240",
   "metadata": {},
   "outputs": [],
   "source": [
    "def extract_Promoter(consensus, barcode1, guide='GGCCCAGACTGAGCACGTGA'):\n",
    "    \n",
    "    start_index = consensus.find(barcode1)+len(barcode1) #Guide Index\n",
    "    \n",
    "    #Now get alignment of the guide\n",
    "    alignments = pairwise2.align.localms(consensus, guide, 2, -1, -3, -0.5, one_alignment_only=True)\n",
    "    aligned_consensus_seq, aligned_vector_seq, score, start_guide, end_guide = alignments[0]\n",
    "    if score < 32: #Indicates vector is not mapping anywhere as well as it should\n",
    "        return 'NG'\n",
    "    elif start_index >= start_guide:\n",
    "        return 'NB'\n",
    "    else:    \n",
    "    #Return the sequence between the Barcode and the guide\n",
    "        return consensus[start_index:start_guide]\n",
    "    "
   ]
  },
  {
   "cell_type": "code",
   "execution_count": 352,
   "id": "c0962d0b",
   "metadata": {},
   "outputs": [],
   "source": [
    "def process_bam_file(input_bam):\n",
    "    samfile = pysam.AlignmentFile(input_bam, \"rb\")\n",
    "    Barcodes_Promoter = []\n",
    "    \n",
    "    # Track the last processed read name to detect and skip additional occurrences\n",
    "    last_processed_read_name = None\n",
    "    pending_read = None\n",
    "\n",
    "    # Read through the BAM file and process reads in pairs\n",
    "    try:\n",
    "        for read in samfile:\n",
    "            if read.query_name == last_processed_read_name:\n",
    "                # Skip this read if we have already processed a pair with this read name\n",
    "                continue\n",
    "\n",
    "            if pending_read is None:\n",
    "                # If there's no pending read, store the current read\n",
    "                pending_read = read\n",
    "            else:\n",
    "                # We have a pair to process\n",
    "                read1, read2 = pending_read, read\n",
    "\n",
    "                # Reset the pending read\n",
    "                pending_read = None\n",
    "\n",
    "                # Process the pair\n",
    "                UMI = read1.query_name.split('_')[-1]\n",
    "                umi1, umi2 = UMI[:7], UMI[7:14]\n",
    "                consensus_seq = merge_and_trim_sequences(read1.seq, read2.seq, umi1, umi2)\n",
    "                barcode1, score1 = extract_barcode(consensus_seq, pre_barcode_vector1, barcode_length=9)\n",
    "                barcode2, score2 = extract_barcode(consensus_seq, pre_barcode_vector2, barcode_length=12)\n",
    "                if (score1 or score2) < 32: #Indicates vector is not mapping anywhere as well as it should\n",
    "                    #Excluded from the analysis\n",
    "                    #Either no vector or no barcode. \n",
    "                    Barcodes_Promoter.append((UMI,len(consensus_seq), '', '', 'NV'))\n",
    "                    continue\n",
    "                elif (Reference.find(barcode1) != -1) or (Reference.find(barcode2) != -1):\n",
    "                    Barcodes_Promoter.append((UMI,len(consensus_seq), '', '', 'NB'))\n",
    "                    continue\n",
    "                    \n",
    "                Promoter = extract_Promoter(consensus_seq, barcode1, guide='GGCCCAGACTGAGCACGTGA')\n",
    "                Barcodes_Promoter.append((UMI,len(consensus_seq), barcode1, barcode2, Promoter))\n",
    "\n",
    "                # Update the last processed read name\n",
    "                last_processed_read_name = read1.query_name\n",
    "\n",
    "    except StopIteration:\n",
    "        # End of file reached\n",
    "        pass\n",
    "    \n",
    "    samfile.close()\n",
    "    return Barcodes_Promoter"
   ]
  },
  {
   "cell_type": "code",
   "execution_count": null,
   "id": "553954db",
   "metadata": {},
   "outputs": [],
   "source": [
    "if __name__ == \"__main__\":\n",
    "    parser = argparse.ArgumentParser(description=\"Process BAM file and export to CSV.\")\n",
    "    parser.add_argument(\"input_bam\", help=\"Input BAM file path\")\n",
    "    parser.add_argument(\"output_file\", help=\"Output CSV file path\")\n",
    "    args = parser.parse_args()\n",
    "    results = process_bam_file(args.input_bam)\n",
    "    df = pd.DataFrame(results, columns = ['UMI','Length', 'Barcode1', 'Barcode2', 'U6'])\n",
    "    df.to_csv(args.output_file,  index = False, header = False)\n"
   ]
  },
  {
   "cell_type": "code",
   "execution_count": 412,
   "id": "6addc5e5",
   "metadata": {},
   "outputs": [],
   "source": [
    "# Example usage\n",
    "input_bam = \"little.bam\"\n",
    "results = process_bam_file(input_bam)\n",
    "#df = pd.DataFrame(results, columns = ['UMI','Length', 'Barcode1', 'Barcode2', 'U6'])\n",
    "df.to_csv('OUTPUT.csv', index = False, header = False)\n",
    "#for item in results:\n",
    "#    print(item)"
   ]
  },
  {
   "cell_type": "code",
   "execution_count": 413,
   "id": "63a78552",
   "metadata": {},
   "outputs": [],
   "source": [
    "df = pd.DataFrame(results, columns = ['UMI','Length', 'Barcode1', 'Barcode2', 'U6'])"
   ]
  },
  {
   "cell_type": "code",
   "execution_count": 422,
   "id": "a27c8e0f",
   "metadata": {},
   "outputs": [],
   "source": [
    "df.to_csv('OUTPUT.csv', index = False, header = False)"
   ]
  },
  {
   "cell_type": "code",
   "execution_count": 262,
   "id": "9ba1a5f5",
   "metadata": {},
   "outputs": [],
   "source": [
    "def process_bam_file_temp(input_bam):\n",
    "    samfile = pysam.AlignmentFile(input_bam, \"rb\")\n",
    "    Barcodes_Promoter = []\n",
    "    \n",
    "    # Track the last processed read name to detect and skip additional occurrences\n",
    "    last_processed_read_name = None\n",
    "    pending_read = None\n",
    "\n",
    "    # Read through the BAM file and process reads in pairs\n",
    "    try:\n",
    "        for read in samfile:\n",
    "            if read.query_name == last_processed_read_name:\n",
    "                # Skip this read if we have already processed a pair with this read name\n",
    "                continue\n",
    "\n",
    "            if pending_read is None:\n",
    "                # If there's no pending read, store the current read\n",
    "                pending_read = read\n",
    "            else:\n",
    "                # We have a pair to process\n",
    "                read1, read2 = pending_read, read\n",
    "\n",
    "                # Reset the pending read\n",
    "                pending_read = None\n",
    "\n",
    "                # Process the pair\n",
    "                UMI = read1.query_name.split('_')[-1]\n",
    "                umi1, umi2 = UMI[:7], UMI[7:14]\n",
    "                consensus_seq = merge_and_trim_sequences(read1.seq, read2.seq, umi1, umi2)\n",
    "                bc, score = extract_barcode_temp(consensus_seq, pre_barcode_vector1, barcode_length=9 )\n",
    "                bc, score1 = extract_barcode_temp(consensus_seq, pre_barcode_vector2, barcode_length=12 )\n",
    "                print(score,score1, UMI)\n",
    "    except StopIteration:\n",
    "        # End of file reached\n",
    "        pass\n",
    "    \n",
    "    samfile.close()\n",
    "    return Barcodes_Promoter\n",
    "    "
   ]
  },
  {
   "cell_type": "code",
   "execution_count": 365,
   "id": "18bec565",
   "metadata": {},
   "outputs": [],
   "source": [
    "read1='AACTCGACACTCTTTCCCTACACGACGCTCTTCCGATCTACATTGATGACTAACCAATTCAGTCGACTGGATCCGGTACCAAGGTCGTGCAGGAATACACCGGCCCAGACTGAGCACGTGAGTTTAAGAGCTAAGCTGGAAGGCCATCTTCACAAAAAGTGGCACCGAGTCGGTGCGCATTACAGTACGAAGATGCATAGCTTTTTTTAAGCTTGGGCCGCTCGAGGTACCTCTCTAAGTCA'\n",
    "read2='TGACTAACCAATTCAGTCGACTGGATCCGGTACCAAGGTCGGGCAGGAATACACCGGCCCAGACTGAGCACGTGAGTTTAAGAGCTAAGCTGGAAGGCCATCTTCACAAAAAGTGGCACCGAGTCGGTGCGCATTACAGTACGAAGATGCATAGCTTTTTTTAAGCTTGGGCCGCTCGAGGTACCTCTCTAAGTCAGCTTGGA'"
   ]
  },
  {
   "cell_type": "code",
   "execution_count": null,
   "id": "be272cae",
   "metadata": {},
   "outputs": [],
   "source": []
  },
  {
   "cell_type": "code",
   "execution_count": 366,
   "id": "a0f6e49d",
   "metadata": {},
   "outputs": [],
   "source": [
    "# Extract UMIs from read name\n",
    "query_name = 'M01605:44:000000000-LHM7F:1:1101:2206:12290_ACATTGATCCAAGC'\n",
    "UMI = query_name.split('_')[-1]\n",
    "umi1, umi2 = UMI[:7], UMI[7:14]\n",
    "\n",
    "# Sequence merging and trimming\n",
    "consensus_seq = merge_and_trim_sequences(read1, read2, umi1, umi2)\n",
    "\n",
    "# Extracting barcodes\n",
    "barcode1, score1 = extract_barcode(consensus_seq, pre_barcode_vector1, barcode_length=9)\n",
    "barcode2 , score2= extract_barcode(consensus_seq, pre_barcode_vector2, barcode_length=12)\n",
    "\n",
    "# Extracting promoter\n",
    "Promoter = extract_Promoter(consensus_seq, barcode1, guide='GGCCCAGACTGAGCACGTGA')"
   ]
  },
  {
   "cell_type": "code",
   "execution_count": 367,
   "id": "259c1a7a",
   "metadata": {},
   "outputs": [],
   "source": [
    "alignments = pairwise2.align.localms(read1, read2, 2, -1, -3, -0.5, one_alignment_only=True)\n",
    "aligned_seq1, aligned_seq2, score, start, end = alignments[0]\n",
    "\n",
    "# Initialize the consensus sequence with the first aligned sequence\n",
    "consensus = list(aligned_seq1)\n",
    "\n",
    "# Merge the aligned sequences into the consensus sequence\n",
    "for i, (base1, base2) in enumerate(zip(aligned_seq1, aligned_seq2)):\n",
    "    if base1 == '-':\n",
    "        consensus[i] = base2\n",
    "    elif base2 == '-':\n",
    "        continue\n",
    "    elif base1 == 'N' and base2 != 'N':\n",
    "        consensus[i] = base2\n",
    "    elif base2 == 'N' and base1 != 'N':\n",
    "        consensus[i] = base1\n",
    "    elif base1 != base2:\n",
    "        # Choose the base from seq2 if a mismatch occurs, unless seq2 contains 'N'\n",
    "        consensus[i] = base2 if base2 != 'N' else base1\n",
    "\n",
    "# Join consensus list into string and remove gaps\n",
    "consensus = ''.join(consensus).replace('-', '')\n"
   ]
  },
  {
   "cell_type": "code",
   "execution_count": 409,
   "id": "3c54be99",
   "metadata": {},
   "outputs": [
    {
     "data": {
      "text/plain": [
       "''"
      ]
     },
     "execution_count": 409,
     "metadata": {},
     "output_type": "execute_result"
    }
   ],
   "source": [
    "\n",
    "    \n",
    "start_index = consensus.find(barcode1)+len(barcode1) #Guide Index\n",
    "\n",
    "#Now get alignment of the guide\n",
    "alignments = pairwise2.align.localms(consensus, guide, 2, -1, -3, -0.5, one_alignment_only=True)\n",
    "aligned_consensus_seq, aligned_vector_seq, score, start_guide, end_guide = alignments[0]\n",
    "\n",
    "#Return the sequence between the Barcode and the guide\n",
    "\n",
    "consensus[start_index:start_guide]\n",
    "    "
   ]
  },
  {
   "cell_type": "code",
   "execution_count": 382,
   "id": "bf9a7054",
   "metadata": {},
   "outputs": [
    {
     "name": "stdout",
     "output_type": "stream",
     "text": [
      "102 GGCCCAGACTGAGCACGTGA\n",
      "    ||||||||||||||||||||\n",
      "  1 GGCCCAGACTGAGCACGTGA\n",
      "  Score=40\n",
      "\n"
     ]
    }
   ],
   "source": [
    "alignments = pairwise2.align.localms(consensus, guide, 2, -1, -3, -0.5, one_alignment_only=True)\n",
    "aligned_consensus_seq, aligned_vector_seq, score, start_guide, end_guide = alignments[0]\n",
    "for alignment in alignments:\n",
    "    print(format_alignment(*alignment))"
   ]
  },
  {
   "cell_type": "code",
   "execution_count": 368,
   "id": "b31f33a0",
   "metadata": {},
   "outputs": [],
   "source": [
    "def extract_barcode_temp(consensus, vector, barcode_length=12):\n",
    "    # Align the consensus sequence to the known vector sequence\n",
    "    alignments = pairwise2.align.localms(consensus, vector, 2, -1, -3, -0.5, one_alignment_only=True)\n",
    "    if alignments:\n",
    "        aligned_consensus_seq, aligned_vector_seq, score, start, end = alignments[0]\n",
    "        barcode_start = end\n",
    "        barcode_end = barcode_start + barcode_length\n",
    "        barcode = aligned_consensus_seq[barcode_start:barcode_end]\n",
    "        return barcode, score\n",
    "    return \"\""
   ]
  },
  {
   "cell_type": "code",
   "execution_count": 369,
   "id": "ecd509e1",
   "metadata": {},
   "outputs": [
    {
     "name": "stdout",
     "output_type": "stream",
     "text": [
      "76 GTACCAAGGTCGGGCAGGAA\n",
      "   ||||||||||||||||||||\n",
      " 1 GTACCAAGGTCGGGCAGGAA\n",
      "  Score=40\n",
      "\n"
     ]
    }
   ],
   "source": [
    "alignments = pairwise2.align.localms(consensus, pre_barcode_vector1, 2, -1, -3, -0.5, one_alignment_only=True)\n",
    "\n",
    "for alignment in alignments:\n",
    "    print(format_alignment(*alignment))"
   ]
  },
  {
   "cell_type": "code",
   "execution_count": 198,
   "id": "cc25ddb8",
   "metadata": {},
   "outputs": [],
   "source": [
    "# Find UMI1 and remove everything to the left\n",
    "umi1_index = consensus.find(umi1)\n",
    "if umi1_index != -1:\n",
    "    consensus = consensus[umi1_index + len(umi1):]\n",
    "\n",
    "# Find UMI2 and remove everything to the right (reverse complement)\n",
    "\n",
    "\n",
    "umi2_rc = reverse_complement(umi2)\n",
    "umi2_index = consensus.rfind(umi2_rc)\n",
    "if umi2_index != -1:\n",
    "    consensus = consensus[:umi2_index]"
   ]
  },
  {
   "cell_type": "markdown",
   "id": "621e0705",
   "metadata": {},
   "source": [
    "NNNNNNNTGACTaaccaattcagtcgactggatccggtaccaaggtcgggcaggaaNNNNNNNNNgagggcctatttcccatgattccttcatatttgcatatacgatacaaggctgttagagagataattagaattaatttgactgtaaacacaaagatattagtacaaaatacgtgacgtagaaagtaataatttcttgggtagtttgcagttttaaaattatgttttaaaatggactatcatatgcttaccgtaacttgaaagtatttcgatttcttggctttatatatcttgtggaaaggacgaaacaccGGCCCAGACTGAGCACGTGAGTTTAAGAGCTAAGCTGGAANNNNNNNNNNNNAAAAAGTGGCACCGAGTCGGTGCgcattacagtacgaagatgcatagctttttttaagcttgggccgctcgaggtacctctctaTGACTNNNNNNN\n"
   ]
  },
  {
   "cell_type": "markdown",
   "id": "cbb41661",
   "metadata": {},
   "source": [
    "Vector1: aaccaattcagtcgactggatccggtaccaaggtcgggcaggaa\n",
    "\n",
    "9nt Barcode:\n",
    "\n",
    "U6: gagggcctatttcccatgattccttcatatttgcatatacgatacaaggctgttagagagataattagaattaatttgactgtaaacacaaagatattagtacaaaatacgtgacgtagaaagtaataatttcttgggtagtttgcagttttaaaattatgttttaaaatggactatcatatgcttaccgtaacttgaaagtatttcgatttcttggctttatatatcttgtggaaaggacgaaacacc\n",
    "\n",
    "Guide: \n",
    "ggcccagactgagcacgtga\n",
    "\n",
    "spacer: GTTTAAGAGCTAAGCTGGAA\n",
    "\n",
    "linker-terminator-vector: AAAAAGTGGCACCGAGTCGGTGCgcattacagtacgaagatgcatagctttttttaagcttgggccgctcgaggtacctctctaTGACT"
   ]
  }
 ],
 "metadata": {
  "kernelspec": {
   "display_name": "Python 3",
   "language": "python",
   "name": "python3"
  },
  "language_info": {
   "codemirror_mode": {
    "name": "ipython",
    "version": 3
   },
   "file_extension": ".py",
   "mimetype": "text/x-python",
   "name": "python",
   "nbconvert_exporter": "python",
   "pygments_lexer": "ipython3",
   "version": "3.8.8"
  }
 },
 "nbformat": 4,
 "nbformat_minor": 5
}
